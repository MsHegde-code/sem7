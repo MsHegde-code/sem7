{
 "cells": [
  {
   "cell_type": "markdown",
   "id": "822c4b2a",
   "metadata": {},
   "source": [
    "# a* algo"
   ]
  },
  {
   "cell_type": "code",
   "execution_count": 8,
   "id": "a90ee27e",
   "metadata": {},
   "outputs": [
    {
     "ename": "KeyError",
     "evalue": "'A'",
     "output_type": "error",
     "traceback": [
      "\u001b[1;31m---------------------------------------------------------------------------\u001b[0m",
      "\u001b[1;31mKeyError\u001b[0m                                  Traceback (most recent call last)",
      "Cell \u001b[1;32mIn[8], line 79\u001b[0m\n\u001b[0;32m     65\u001b[0m \u001b[38;5;66;03m#Describe your graph here\u001b[39;00m\n\u001b[0;32m     66\u001b[0m graphNode \u001b[38;5;241m=\u001b[39m {\n\u001b[0;32m     67\u001b[0m     \n\u001b[0;32m     68\u001b[0m     \u001b[38;5;124m'\u001b[39m\u001b[38;5;124mA\u001b[39m\u001b[38;5;124m'\u001b[39m: [(\u001b[38;5;124m'\u001b[39m\u001b[38;5;124mB\u001b[39m\u001b[38;5;124m'\u001b[39m, \u001b[38;5;241m6\u001b[39m), (\u001b[38;5;124m'\u001b[39m\u001b[38;5;124mF\u001b[39m\u001b[38;5;124m'\u001b[39m, \u001b[38;5;241m3\u001b[39m)],\n\u001b[1;32m   (...)\u001b[0m\n\u001b[0;32m     77\u001b[0m \n\u001b[0;32m     78\u001b[0m }\n\u001b[1;32m---> 79\u001b[0m \u001b[43maStar\u001b[49m\u001b[43m(\u001b[49m\u001b[38;5;124;43m'\u001b[39;49m\u001b[38;5;124;43mA\u001b[39;49m\u001b[38;5;124;43m'\u001b[39;49m\u001b[43m,\u001b[49m\u001b[43m \u001b[49m\u001b[38;5;124;43m'\u001b[39;49m\u001b[38;5;124;43mJ\u001b[39;49m\u001b[38;5;124;43m'\u001b[39;49m\u001b[43m)\u001b[49m\n",
      "Cell \u001b[1;32mIn[8], line 18\u001b[0m, in \u001b[0;36maStar\u001b[1;34m(start_node, stop_node)\u001b[0m\n\u001b[0;32m     16\u001b[0m \u001b[38;5;28;01mif\u001b[39;00m m \u001b[38;5;129;01mnot\u001b[39;00m \u001b[38;5;129;01min\u001b[39;00m open_set \u001b[38;5;129;01mand\u001b[39;00m m \u001b[38;5;129;01mnot\u001b[39;00m \u001b[38;5;129;01min\u001b[39;00m closed_set:\n\u001b[0;32m     17\u001b[0m     open_set\u001b[38;5;241m.\u001b[39madd(m)\n\u001b[1;32m---> 18\u001b[0m     g[m] \u001b[38;5;241m=\u001b[39m \u001b[43mg\u001b[49m\u001b[43m[\u001b[49m\u001b[43mn\u001b[49m\u001b[43m]\u001b[49m \u001b[38;5;241m+\u001b[39m weight\n\u001b[0;32m     19\u001b[0m     parents[m] \u001b[38;5;241m=\u001b[39m n\n\u001b[0;32m     20\u001b[0m \u001b[38;5;28;01melse\u001b[39;00m:\n",
      "\u001b[1;31mKeyError\u001b[0m: 'A'"
     ]
    }
   ],
   "source": [
    "def aStar(start_node, stop_node):\n",
    "    open_set = set(start_node)\n",
    "    closed_set = set()\n",
    "    g={}\n",
    "    parents={}\n",
    "    \n",
    "    while(len(open_set)>0):\n",
    "        n = None\n",
    "        for v in open_set:\n",
    "            if(n==None or g[v]+heuristic(v)>g[n]+heuristic(n)):\n",
    "                n = v\n",
    "        if n==stop_node or graphNode[n]==None:\n",
    "            pass\n",
    "        else:\n",
    "            for m, weight in get_neighbours(n):\n",
    "                if m not in open_set and m not in closed_set:\n",
    "                    open_set.add(m)\n",
    "                    parents[m] = n\n",
    "                    g[m] = g[n] + weight\n",
    "                else:\n",
    "                    if(g[m]>g[n]+weight):\n",
    "                        g[m] = g[n]+weight\n",
    "                        parents[m] = n\n",
    "                        if m in closed_set:\n",
    "                            closed_set.remove(m)\n",
    "                            open_set.add(m)\n",
    "                if n==None:\n",
    "                    print(\"path doesnt exist\")\n",
    "                    return None\n",
    "                if n==stop_node:\n",
    "                    path=[]\n",
    "                    while(parents[n]!=n):\n",
    "                        path.append(n)\n",
    "                        n = parents[n]\n",
    "                    path.append(start_node)\n",
    "                    path.reverse()\n",
    "                    print(\"path found {}\".format(path))\n",
    "                    return path\n",
    "            open_set.remove(n)\n",
    "            closed_set.add(n)\n",
    "        print(\"path doesnt exist\")\n",
    "        return None\n",
    "    \n",
    "def get_neighbours(v):\n",
    "    if v in graphNode:\n",
    "        return graphNode[v]\n",
    "    else:\n",
    "        return None\n",
    "def heuristic(n):\n",
    "    H_dist = {\n",
    "        'A': 10,\n",
    "        'B': 8,\n",
    "        'C': 5,\n",
    "        'D': 7,\n",
    "        'E': 3,\n",
    "        'F': 6,\n",
    "        'G': 5,\n",
    "        'H': 3,\n",
    "        'I': 1,\n",
    "        'J': 0\n",
    "    }\n",
    "\n",
    "    return H_dist[n]\n",
    "\n",
    "#Describe your graph here\n",
    "graphNode = {\n",
    "    \n",
    "    'A': [('B', 6), ('F', 3)],\n",
    "    'B': [('C', 3), ('D', 2)],\n",
    "    'C': [('D', 1), ('E', 5)],\n",
    "    'D': [('C', 1), ('E', 8)],\n",
    "    'E': [('I', 5), ('J', 5)],\n",
    "    'F': [('G', 1),('H', 7)] ,\n",
    "    'G': [('I', 3)],\n",
    "    'H': [('I', 2)],\n",
    "    'I': [('E', 5), ('J', 3)],\n",
    "\n",
    "}\n",
    "aStar('A', 'J')"
   ]
  },
  {
   "cell_type": "code",
   "execution_count": null,
   "id": "78c23cb4",
   "metadata": {},
   "outputs": [],
   "source": []
  }
 ],
 "metadata": {
  "kernelspec": {
   "display_name": "Python 3 (ipykernel)",
   "language": "python",
   "name": "python3"
  },
  "language_info": {
   "codemirror_mode": {
    "name": "ipython",
    "version": 3
   },
   "file_extension": ".py",
   "mimetype": "text/x-python",
   "name": "python",
   "nbconvert_exporter": "python",
   "pygments_lexer": "ipython3",
   "version": "3.11.4"
  }
 },
 "nbformat": 4,
 "nbformat_minor": 5
}
